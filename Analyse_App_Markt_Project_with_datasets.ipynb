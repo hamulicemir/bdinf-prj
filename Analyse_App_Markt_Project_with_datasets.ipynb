{
 "cells": [
  {
   "cell_type": "markdown",
   "id": "e7a01804",
   "metadata": {},
   "source": [
    "# Analyse vom App-Markt\n",
    "**Final Project**\n",
    "\n",
    "**Team:** Emir Hamulic, Emrehan Imamoglu, Markus Tuma  \n",
    "**Datum:** 2025-04-20\n",
    "\n",
    "Dieses Notebook demonstriert das Einlesen und Verarbeiten der beiden geforderten Datensätze aus dem Apple App Store und Google Play Store."
   ]
  },
  {
   "cell_type": "markdown",
   "id": "27587229",
   "metadata": {},
   "source": [
    "## Imports und MongoDB-Verbindung\n",
    "\n",
    "Zuerst installieren wir erforderliche Bibliotheken und stellen die Verbindung zur MongoDB her."
   ]
  },
  {
   "cell_type": "code",
   "id": "b51e7d9a",
   "metadata": {
    "ExecuteTime": {
     "end_time": "2025-04-20T17:49:02.467303Z",
     "start_time": "2025-04-20T17:49:01.533355Z"
    }
   },
   "source": [
    "# Installiere erforderliche Bibliotheken (falls nicht vorhanden)\n",
    "# !pip install pandas pymongo matplotlib wordcloud\n",
    "\n",
    "from pymongo import MongoClient\n",
    "import pandas as pd\n",
    "import matplotlib.pyplot as plt\n",
    "from wordcloud import WordCloud\n",
    "import numpy as np\n",
    "\n",
    "# MongoDB-Verbindung\n",
    "client = MongoClient(\"mongodb://localhost:27017/\")\n",
    "db = client['app_market']\n",
    "raw_coll = db['raw_apps']\n",
    "clean_coll = db['clean_apps']\n",
    "mr_coll = db['mr_genre_avg_rating']\n",
    "print(\"MongoDB-Verbindung hergestellt.\")"
   ],
   "outputs": [
    {
     "name": "stdout",
     "output_type": "stream",
     "text": [
      "MongoDB-Verbindung hergestellt.\n"
     ]
    }
   ],
   "execution_count": 1
  },
  {
   "cell_type": "markdown",
   "id": "aa9f69fd",
   "metadata": {},
   "source": [
    "## 1. Einlesen des Apple App Store Datensatzes"
   ]
  },
  {
   "cell_type": "code",
   "id": "6ab69d5e",
   "metadata": {
    "ExecuteTime": {
     "end_time": "2025-04-20T17:49:14.879232Z",
     "start_time": "2025-04-20T17:49:05.392885Z"
    }
   },
   "source": [
    "# Einlesen des CSV in ein DataFrame\n",
    "apple_df = pd.read_csv('datasource/appleAppData.csv')\n",
    "\n",
    "# Schema anzeigen und erste Zeilen\n",
    "print(\"Apple App Store DataFrame Schema:\")\n",
    "print(apple_df.dtypes)\n",
    "apple_df.head()"
   ],
   "outputs": [
    {
     "name": "stdout",
     "output_type": "stream",
     "text": [
      "Apple App Store DataFrame Schema:\n",
      "App_Id                      object\n",
      "App_Name                    object\n",
      "AppStore_Url                object\n",
      "Primary_Genre               object\n",
      "Content_Rating              object\n",
      "Size_Bytes                 float64\n",
      "Required_IOS_Version        object\n",
      "Released                    object\n",
      "Updated                     object\n",
      "Version                     object\n",
      "Price                      float64\n",
      "Currency                    object\n",
      "Free                          bool\n",
      "DeveloperId                  int64\n",
      "Developer                   object\n",
      "Developer_Url               object\n",
      "Developer_Website           object\n",
      "Average_User_Rating        float64\n",
      "Reviews                      int64\n",
      "Current_Version_Score      float64\n",
      "Current_Version_Reviews      int64\n",
      "dtype: object\n"
     ]
    },
    {
     "data": {
      "text/plain": [
       "                             App_Id                 App_Name  \\\n",
       "0               com.hkbu.arc.apaper           A+ Paper Guide   \n",
       "1               com.dmitriev.abooks                  A-Books   \n",
       "2                    no.terp.abooks                  A-books   \n",
       "3          fr.antoinettefleur.Book1              A-F Book #1   \n",
       "4  com.imonstersoft.azdictionaryios  A-Z Synonyms Dictionary   \n",
       "\n",
       "                                        AppStore_Url Primary_Genre  \\\n",
       "0  https://apps.apple.com/us/app/a-paper-guide/id...     Education   \n",
       "1  https://apps.apple.com/us/app/a-books/id103157...          Book   \n",
       "2  https://apps.apple.com/us/app/a-books/id145702...          Book   \n",
       "3  https://apps.apple.com/us/app/a-f-book-1/id500...          Book   \n",
       "4  https://apps.apple.com/us/app/a-z-synonyms-dic...     Reference   \n",
       "\n",
       "  Content_Rating  Size_Bytes Required_IOS_Version              Released  \\\n",
       "0             4+  21993472.0                  8.0  2017-09-28T03:02:41Z   \n",
       "1             4+  13135872.0                 10.0  2015-08-31T19:31:32Z   \n",
       "2             4+  21943296.0                  9.0  2021-04-14T07:00:00Z   \n",
       "3             4+  81851392.0                  8.0  2012-02-10T03:40:07Z   \n",
       "4             4+  64692224.0                  9.0  2020-12-16T08:00:00Z   \n",
       "\n",
       "                Updated Version  ...  Currency   Free  DeveloperId  \\\n",
       "0  2018-12-21T21:30:36Z   1.1.2  ...       USD   True   1375410542   \n",
       "1  2019-07-23T20:31:09Z     1.3  ...       USD   True   1031572001   \n",
       "2  2021-05-30T21:08:54Z   1.3.1  ...       USD   True   1457024163   \n",
       "3  2019-10-29T12:40:37Z     1.2  ...       USD  False    439568839   \n",
       "4  2020-12-18T21:36:11Z   1.0.1  ...       USD   True    656731821   \n",
       "\n",
       "        Developer                                      Developer_Url  \\\n",
       "0        HKBU ARC  https://apps.apple.com/us/developer/hkbu-arc/i...   \n",
       "1  Roman Dmitriev  https://apps.apple.com/us/developer/roman-dmit...   \n",
       "2         Terp AS  https://apps.apple.com/us/developer/terp-as/id...   \n",
       "3   i-editeur.com  https://apps.apple.com/us/developer/i-editeur-...   \n",
       "4   Ngov chiheang  https://apps.apple.com/us/developer/ngov-chihe...   \n",
       "\n",
       "         Developer_Website Average_User_Rating  Reviews  \\\n",
       "0                      NaN                 0.0        0   \n",
       "1                      NaN                 5.0        1   \n",
       "2                      NaN                 0.0        0   \n",
       "3                      NaN                 0.0        0   \n",
       "4  http://imonstersoft.com                 0.0        0   \n",
       "\n",
       "   Current_Version_Score  Current_Version_Reviews  \n",
       "0                    0.0                        0  \n",
       "1                    5.0                        1  \n",
       "2                    0.0                        0  \n",
       "3                    0.0                        0  \n",
       "4                    0.0                        0  \n",
       "\n",
       "[5 rows x 21 columns]"
      ],
      "text/html": [
       "<div>\n",
       "<style scoped>\n",
       "    .dataframe tbody tr th:only-of-type {\n",
       "        vertical-align: middle;\n",
       "    }\n",
       "\n",
       "    .dataframe tbody tr th {\n",
       "        vertical-align: top;\n",
       "    }\n",
       "\n",
       "    .dataframe thead th {\n",
       "        text-align: right;\n",
       "    }\n",
       "</style>\n",
       "<table border=\"1\" class=\"dataframe\">\n",
       "  <thead>\n",
       "    <tr style=\"text-align: right;\">\n",
       "      <th></th>\n",
       "      <th>App_Id</th>\n",
       "      <th>App_Name</th>\n",
       "      <th>AppStore_Url</th>\n",
       "      <th>Primary_Genre</th>\n",
       "      <th>Content_Rating</th>\n",
       "      <th>Size_Bytes</th>\n",
       "      <th>Required_IOS_Version</th>\n",
       "      <th>Released</th>\n",
       "      <th>Updated</th>\n",
       "      <th>Version</th>\n",
       "      <th>...</th>\n",
       "      <th>Currency</th>\n",
       "      <th>Free</th>\n",
       "      <th>DeveloperId</th>\n",
       "      <th>Developer</th>\n",
       "      <th>Developer_Url</th>\n",
       "      <th>Developer_Website</th>\n",
       "      <th>Average_User_Rating</th>\n",
       "      <th>Reviews</th>\n",
       "      <th>Current_Version_Score</th>\n",
       "      <th>Current_Version_Reviews</th>\n",
       "    </tr>\n",
       "  </thead>\n",
       "  <tbody>\n",
       "    <tr>\n",
       "      <th>0</th>\n",
       "      <td>com.hkbu.arc.apaper</td>\n",
       "      <td>A+ Paper Guide</td>\n",
       "      <td>https://apps.apple.com/us/app/a-paper-guide/id...</td>\n",
       "      <td>Education</td>\n",
       "      <td>4+</td>\n",
       "      <td>21993472.0</td>\n",
       "      <td>8.0</td>\n",
       "      <td>2017-09-28T03:02:41Z</td>\n",
       "      <td>2018-12-21T21:30:36Z</td>\n",
       "      <td>1.1.2</td>\n",
       "      <td>...</td>\n",
       "      <td>USD</td>\n",
       "      <td>True</td>\n",
       "      <td>1375410542</td>\n",
       "      <td>HKBU ARC</td>\n",
       "      <td>https://apps.apple.com/us/developer/hkbu-arc/i...</td>\n",
       "      <td>NaN</td>\n",
       "      <td>0.0</td>\n",
       "      <td>0</td>\n",
       "      <td>0.0</td>\n",
       "      <td>0</td>\n",
       "    </tr>\n",
       "    <tr>\n",
       "      <th>1</th>\n",
       "      <td>com.dmitriev.abooks</td>\n",
       "      <td>A-Books</td>\n",
       "      <td>https://apps.apple.com/us/app/a-books/id103157...</td>\n",
       "      <td>Book</td>\n",
       "      <td>4+</td>\n",
       "      <td>13135872.0</td>\n",
       "      <td>10.0</td>\n",
       "      <td>2015-08-31T19:31:32Z</td>\n",
       "      <td>2019-07-23T20:31:09Z</td>\n",
       "      <td>1.3</td>\n",
       "      <td>...</td>\n",
       "      <td>USD</td>\n",
       "      <td>True</td>\n",
       "      <td>1031572001</td>\n",
       "      <td>Roman Dmitriev</td>\n",
       "      <td>https://apps.apple.com/us/developer/roman-dmit...</td>\n",
       "      <td>NaN</td>\n",
       "      <td>5.0</td>\n",
       "      <td>1</td>\n",
       "      <td>5.0</td>\n",
       "      <td>1</td>\n",
       "    </tr>\n",
       "    <tr>\n",
       "      <th>2</th>\n",
       "      <td>no.terp.abooks</td>\n",
       "      <td>A-books</td>\n",
       "      <td>https://apps.apple.com/us/app/a-books/id145702...</td>\n",
       "      <td>Book</td>\n",
       "      <td>4+</td>\n",
       "      <td>21943296.0</td>\n",
       "      <td>9.0</td>\n",
       "      <td>2021-04-14T07:00:00Z</td>\n",
       "      <td>2021-05-30T21:08:54Z</td>\n",
       "      <td>1.3.1</td>\n",
       "      <td>...</td>\n",
       "      <td>USD</td>\n",
       "      <td>True</td>\n",
       "      <td>1457024163</td>\n",
       "      <td>Terp AS</td>\n",
       "      <td>https://apps.apple.com/us/developer/terp-as/id...</td>\n",
       "      <td>NaN</td>\n",
       "      <td>0.0</td>\n",
       "      <td>0</td>\n",
       "      <td>0.0</td>\n",
       "      <td>0</td>\n",
       "    </tr>\n",
       "    <tr>\n",
       "      <th>3</th>\n",
       "      <td>fr.antoinettefleur.Book1</td>\n",
       "      <td>A-F Book #1</td>\n",
       "      <td>https://apps.apple.com/us/app/a-f-book-1/id500...</td>\n",
       "      <td>Book</td>\n",
       "      <td>4+</td>\n",
       "      <td>81851392.0</td>\n",
       "      <td>8.0</td>\n",
       "      <td>2012-02-10T03:40:07Z</td>\n",
       "      <td>2019-10-29T12:40:37Z</td>\n",
       "      <td>1.2</td>\n",
       "      <td>...</td>\n",
       "      <td>USD</td>\n",
       "      <td>False</td>\n",
       "      <td>439568839</td>\n",
       "      <td>i-editeur.com</td>\n",
       "      <td>https://apps.apple.com/us/developer/i-editeur-...</td>\n",
       "      <td>NaN</td>\n",
       "      <td>0.0</td>\n",
       "      <td>0</td>\n",
       "      <td>0.0</td>\n",
       "      <td>0</td>\n",
       "    </tr>\n",
       "    <tr>\n",
       "      <th>4</th>\n",
       "      <td>com.imonstersoft.azdictionaryios</td>\n",
       "      <td>A-Z Synonyms Dictionary</td>\n",
       "      <td>https://apps.apple.com/us/app/a-z-synonyms-dic...</td>\n",
       "      <td>Reference</td>\n",
       "      <td>4+</td>\n",
       "      <td>64692224.0</td>\n",
       "      <td>9.0</td>\n",
       "      <td>2020-12-16T08:00:00Z</td>\n",
       "      <td>2020-12-18T21:36:11Z</td>\n",
       "      <td>1.0.1</td>\n",
       "      <td>...</td>\n",
       "      <td>USD</td>\n",
       "      <td>True</td>\n",
       "      <td>656731821</td>\n",
       "      <td>Ngov chiheang</td>\n",
       "      <td>https://apps.apple.com/us/developer/ngov-chihe...</td>\n",
       "      <td>http://imonstersoft.com</td>\n",
       "      <td>0.0</td>\n",
       "      <td>0</td>\n",
       "      <td>0.0</td>\n",
       "      <td>0</td>\n",
       "    </tr>\n",
       "  </tbody>\n",
       "</table>\n",
       "<p>5 rows × 21 columns</p>\n",
       "</div>"
      ]
     },
     "execution_count": 2,
     "metadata": {},
     "output_type": "execute_result"
    }
   ],
   "execution_count": 2
  },
  {
   "cell_type": "markdown",
   "id": "dd9c9e78",
   "metadata": {},
   "source": [
    "## 2. Einlesen des Google Play Store Datensatzes"
   ]
  },
  {
   "cell_type": "code",
   "id": "00497f04",
   "metadata": {
    "ExecuteTime": {
     "end_time": "2025-04-20T17:49:35.800826Z",
     "start_time": "2025-04-20T17:49:19.344253Z"
    }
   },
   "source": [
    "# Einlesen des CSV in ein DataFrame\n",
    "google_df = pd.read_csv('datasource/Google-Playstore.csv')\n",
    "\n",
    "# Schema anzeigen und erste Zeilen\n",
    "print(\"Google Play Store DataFrame Schema:\")\n",
    "print(google_df.dtypes)\n",
    "google_df.head()"
   ],
   "outputs": [
    {
     "name": "stdout",
     "output_type": "stream",
     "text": [
      "Google Play Store DataFrame Schema:\n",
      "App Name              object\n",
      "App Id                object\n",
      "Category              object\n",
      "Rating               float64\n",
      "Rating Count         float64\n",
      "Installs              object\n",
      "Minimum Installs     float64\n",
      "Maximum Installs       int64\n",
      "Free                    bool\n",
      "Price                float64\n",
      "Currency              object\n",
      "Size                  object\n",
      "Minimum Android       object\n",
      "Developer Id          object\n",
      "Developer Website     object\n",
      "Developer Email       object\n",
      "Released              object\n",
      "Last Updated          object\n",
      "Content Rating        object\n",
      "Privacy Policy        object\n",
      "Ad Supported            bool\n",
      "In App Purchases        bool\n",
      "Editors Choice          bool\n",
      "Scraped Time          object\n",
      "dtype: object\n"
     ]
    },
    {
     "data": {
      "text/plain": [
       "                                            App Name  \\\n",
       "0                                            Gakondo   \n",
       "1                                Ampere Battery Info   \n",
       "2                                             Vibook   \n",
       "3  Smart City Trichy Public Service Vehicles 17UC...   \n",
       "4                                            GROW.me   \n",
       "\n",
       "                       App Id       Category  Rating  Rating Count Installs  \\\n",
       "0         com.ishakwe.gakondo      Adventure     0.0           0.0      10+   \n",
       "1  com.webserveis.batteryinfo          Tools     4.4          64.0   5,000+   \n",
       "2        com.doantiepvien.crm   Productivity     0.0           0.0      50+   \n",
       "3     cst.stJoseph.ug17ucs548  Communication     5.0           5.0      10+   \n",
       "4        com.horodyski.grower          Tools     0.0           0.0     100+   \n",
       "\n",
       "   Minimum Installs  Maximum Installs  Free  Price  ...  \\\n",
       "0              10.0                15  True    0.0  ...   \n",
       "1            5000.0              7662  True    0.0  ...   \n",
       "2              50.0                58  True    0.0  ...   \n",
       "3              10.0                19  True    0.0  ...   \n",
       "4             100.0               478  True    0.0  ...   \n",
       "\n",
       "                  Developer Website              Developer Email  \\\n",
       "0       https://beniyizibyose.tk/#/       jean21101999@gmail.com   \n",
       "1   https://webserveis.netlify.app/         webserveis@gmail.com   \n",
       "2                               NaN          vnacrewit@gmail.com   \n",
       "3  http://www.climatesmarttech.com/  climatesmarttech2@gmail.com   \n",
       "4       http://www.horodyski.com.pl    rmilekhorodyski@gmail.com   \n",
       "\n",
       "       Released  Last Updated Content Rating  \\\n",
       "0  Feb 26, 2020  Feb 26, 2020       Everyone   \n",
       "1  May 21, 2020  May 06, 2021       Everyone   \n",
       "2   Aug 9, 2019  Aug 19, 2019       Everyone   \n",
       "3  Sep 10, 2018  Oct 13, 2018       Everyone   \n",
       "4  Feb 21, 2020  Nov 12, 2018       Everyone   \n",
       "\n",
       "                                      Privacy Policy Ad Supported  \\\n",
       "0                 https://beniyizibyose.tk/projects/        False   \n",
       "1  https://dev4phones.wordpress.com/licencia-de-uso/         True   \n",
       "2  https://www.vietnamairlines.com/vn/en/terms-an...        False   \n",
       "3                                                NaN         True   \n",
       "4                        http://www.horodyski.com.pl        False   \n",
       "\n",
       "  In App Purchases Editors Choice         Scraped Time  \n",
       "0            False          False  2021-06-15 20:19:35  \n",
       "1            False          False  2021-06-15 20:19:35  \n",
       "2            False          False  2021-06-15 20:19:35  \n",
       "3            False          False  2021-06-15 20:19:35  \n",
       "4            False          False  2021-06-15 20:19:35  \n",
       "\n",
       "[5 rows x 24 columns]"
      ],
      "text/html": [
       "<div>\n",
       "<style scoped>\n",
       "    .dataframe tbody tr th:only-of-type {\n",
       "        vertical-align: middle;\n",
       "    }\n",
       "\n",
       "    .dataframe tbody tr th {\n",
       "        vertical-align: top;\n",
       "    }\n",
       "\n",
       "    .dataframe thead th {\n",
       "        text-align: right;\n",
       "    }\n",
       "</style>\n",
       "<table border=\"1\" class=\"dataframe\">\n",
       "  <thead>\n",
       "    <tr style=\"text-align: right;\">\n",
       "      <th></th>\n",
       "      <th>App Name</th>\n",
       "      <th>App Id</th>\n",
       "      <th>Category</th>\n",
       "      <th>Rating</th>\n",
       "      <th>Rating Count</th>\n",
       "      <th>Installs</th>\n",
       "      <th>Minimum Installs</th>\n",
       "      <th>Maximum Installs</th>\n",
       "      <th>Free</th>\n",
       "      <th>Price</th>\n",
       "      <th>...</th>\n",
       "      <th>Developer Website</th>\n",
       "      <th>Developer Email</th>\n",
       "      <th>Released</th>\n",
       "      <th>Last Updated</th>\n",
       "      <th>Content Rating</th>\n",
       "      <th>Privacy Policy</th>\n",
       "      <th>Ad Supported</th>\n",
       "      <th>In App Purchases</th>\n",
       "      <th>Editors Choice</th>\n",
       "      <th>Scraped Time</th>\n",
       "    </tr>\n",
       "  </thead>\n",
       "  <tbody>\n",
       "    <tr>\n",
       "      <th>0</th>\n",
       "      <td>Gakondo</td>\n",
       "      <td>com.ishakwe.gakondo</td>\n",
       "      <td>Adventure</td>\n",
       "      <td>0.0</td>\n",
       "      <td>0.0</td>\n",
       "      <td>10+</td>\n",
       "      <td>10.0</td>\n",
       "      <td>15</td>\n",
       "      <td>True</td>\n",
       "      <td>0.0</td>\n",
       "      <td>...</td>\n",
       "      <td>https://beniyizibyose.tk/#/</td>\n",
       "      <td>jean21101999@gmail.com</td>\n",
       "      <td>Feb 26, 2020</td>\n",
       "      <td>Feb 26, 2020</td>\n",
       "      <td>Everyone</td>\n",
       "      <td>https://beniyizibyose.tk/projects/</td>\n",
       "      <td>False</td>\n",
       "      <td>False</td>\n",
       "      <td>False</td>\n",
       "      <td>2021-06-15 20:19:35</td>\n",
       "    </tr>\n",
       "    <tr>\n",
       "      <th>1</th>\n",
       "      <td>Ampere Battery Info</td>\n",
       "      <td>com.webserveis.batteryinfo</td>\n",
       "      <td>Tools</td>\n",
       "      <td>4.4</td>\n",
       "      <td>64.0</td>\n",
       "      <td>5,000+</td>\n",
       "      <td>5000.0</td>\n",
       "      <td>7662</td>\n",
       "      <td>True</td>\n",
       "      <td>0.0</td>\n",
       "      <td>...</td>\n",
       "      <td>https://webserveis.netlify.app/</td>\n",
       "      <td>webserveis@gmail.com</td>\n",
       "      <td>May 21, 2020</td>\n",
       "      <td>May 06, 2021</td>\n",
       "      <td>Everyone</td>\n",
       "      <td>https://dev4phones.wordpress.com/licencia-de-uso/</td>\n",
       "      <td>True</td>\n",
       "      <td>False</td>\n",
       "      <td>False</td>\n",
       "      <td>2021-06-15 20:19:35</td>\n",
       "    </tr>\n",
       "    <tr>\n",
       "      <th>2</th>\n",
       "      <td>Vibook</td>\n",
       "      <td>com.doantiepvien.crm</td>\n",
       "      <td>Productivity</td>\n",
       "      <td>0.0</td>\n",
       "      <td>0.0</td>\n",
       "      <td>50+</td>\n",
       "      <td>50.0</td>\n",
       "      <td>58</td>\n",
       "      <td>True</td>\n",
       "      <td>0.0</td>\n",
       "      <td>...</td>\n",
       "      <td>NaN</td>\n",
       "      <td>vnacrewit@gmail.com</td>\n",
       "      <td>Aug 9, 2019</td>\n",
       "      <td>Aug 19, 2019</td>\n",
       "      <td>Everyone</td>\n",
       "      <td>https://www.vietnamairlines.com/vn/en/terms-an...</td>\n",
       "      <td>False</td>\n",
       "      <td>False</td>\n",
       "      <td>False</td>\n",
       "      <td>2021-06-15 20:19:35</td>\n",
       "    </tr>\n",
       "    <tr>\n",
       "      <th>3</th>\n",
       "      <td>Smart City Trichy Public Service Vehicles 17UC...</td>\n",
       "      <td>cst.stJoseph.ug17ucs548</td>\n",
       "      <td>Communication</td>\n",
       "      <td>5.0</td>\n",
       "      <td>5.0</td>\n",
       "      <td>10+</td>\n",
       "      <td>10.0</td>\n",
       "      <td>19</td>\n",
       "      <td>True</td>\n",
       "      <td>0.0</td>\n",
       "      <td>...</td>\n",
       "      <td>http://www.climatesmarttech.com/</td>\n",
       "      <td>climatesmarttech2@gmail.com</td>\n",
       "      <td>Sep 10, 2018</td>\n",
       "      <td>Oct 13, 2018</td>\n",
       "      <td>Everyone</td>\n",
       "      <td>NaN</td>\n",
       "      <td>True</td>\n",
       "      <td>False</td>\n",
       "      <td>False</td>\n",
       "      <td>2021-06-15 20:19:35</td>\n",
       "    </tr>\n",
       "    <tr>\n",
       "      <th>4</th>\n",
       "      <td>GROW.me</td>\n",
       "      <td>com.horodyski.grower</td>\n",
       "      <td>Tools</td>\n",
       "      <td>0.0</td>\n",
       "      <td>0.0</td>\n",
       "      <td>100+</td>\n",
       "      <td>100.0</td>\n",
       "      <td>478</td>\n",
       "      <td>True</td>\n",
       "      <td>0.0</td>\n",
       "      <td>...</td>\n",
       "      <td>http://www.horodyski.com.pl</td>\n",
       "      <td>rmilekhorodyski@gmail.com</td>\n",
       "      <td>Feb 21, 2020</td>\n",
       "      <td>Nov 12, 2018</td>\n",
       "      <td>Everyone</td>\n",
       "      <td>http://www.horodyski.com.pl</td>\n",
       "      <td>False</td>\n",
       "      <td>False</td>\n",
       "      <td>False</td>\n",
       "      <td>2021-06-15 20:19:35</td>\n",
       "    </tr>\n",
       "  </tbody>\n",
       "</table>\n",
       "<p>5 rows × 24 columns</p>\n",
       "</div>"
      ]
     },
     "execution_count": 3,
     "metadata": {},
     "output_type": "execute_result"
    }
   ],
   "execution_count": 3
  },
  {
   "cell_type": "markdown",
   "id": "1c4fbb01",
   "metadata": {},
   "source": [
    "## 3. Speicherung der Rohdaten in MongoDB"
   ]
  },
  {
   "cell_type": "code",
   "id": "f7211e1a",
   "metadata": {
    "ExecuteTime": {
     "end_time": "2025-04-20T16:59:23.857692Z",
     "start_time": "2025-04-20T16:51:31.424069Z"
    }
   },
   "source": [
    "# Rohdaten in MongoDB einfügen\n",
    "raw_coll.delete_many({})  # bestehende Rohdaten löschen, falls vorhanden\n",
    "raw_coll.insert_many(apple_df.to_dict('records'))\n",
    "raw_coll.insert_many(google_df.to_dict('records'))\n",
    "print(f'Rohdaten: {raw_coll.count_documents({})} Dokumente in raw_apps.')"
   ],
   "outputs": [
    {
     "name": "stdout",
     "output_type": "stream",
     "text": [
      "Rohdaten: 3543320 Dokumente in raw_apps.\n"
     ]
    }
   ],
   "execution_count": 5
  },
  {
   "cell_type": "markdown",
   "id": "8426c094",
   "metadata": {},
   "source": [
    "## 4. Datenaufbereitung (Clean-Up)"
   ]
  },
  {
   "metadata": {
    "ExecuteTime": {
     "end_time": "2025-04-20T17:50:21.208799Z",
     "start_time": "2025-04-20T17:49:44.595762Z"
    }
   },
   "cell_type": "code",
   "source": [
    "# === 1. Kopieren, Plattform kennzeichnen und Spalten umbenennen ===\n",
    "apple_df_clean = apple_df.copy()\n",
    "google_df_clean = google_df.copy()\n",
    "apple_df_clean['platform'] = 'iOS'\n",
    "google_df_clean['platform'] = 'Android'\n",
    "\n",
    "apple_df_clean.rename(columns={\n",
    "    'App_Name': 'app_name',\n",
    "    'Primary_Genre': 'category',\n",
    "    'Average_User_Rating': 'rating',\n",
    "    'Reviews': 'num_reviews',\n",
    "    'Price': 'price',\n",
    "    'Free': 'free',\n",
    "    'Released': 'released',\n",
    "    'Updated': 'updated'\n",
    "}, inplace=True)\n",
    "\n",
    "google_df_clean.rename(columns={\n",
    "    'App Name': 'app_name',\n",
    "    'Category': 'category',\n",
    "    'Rating': 'rating',\n",
    "    'Rating Count': 'num_reviews',\n",
    "    'Price': 'price',\n",
    "    'Free': 'free',\n",
    "    'Released': 'released',\n",
    "    'Last Updated': 'updated'\n",
    "}, inplace=True)\n",
    "\n",
    "# === 2. Datetime konvertieren ===\n",
    "apple_df_clean['released'] = pd.to_datetime(apple_df_clean['released'])\n",
    "apple_df_clean['updated']  = pd.to_datetime(apple_df_clean['updated'])\n",
    "google_df_clean['released'] = pd.to_datetime(google_df_clean['released'])\n",
    "google_df_clean['updated']  = pd.to_datetime(google_df_clean['updated'])\n",
    "\n",
    "# === 3. Relevante Spalten auswählen und mergen ===\n",
    "cols = ['app_name', 'category', 'rating', 'num_reviews', 'price', 'free',\n",
    "        'platform', 'released', 'updated']\n",
    "apple_sub  = apple_df_clean[cols]\n",
    "google_sub = google_df_clean[cols]\n",
    "\n",
    "combined_df = pd.concat([apple_sub, google_sub], ignore_index=True)\n",
    "combined_df.drop_duplicates(subset=['app_name', 'platform'], inplace=True)\n",
    "\n",
    "print(\"relevante Spalten und Verbindung\")\n",
    "\n",
    "# === 4. Sampling: 50 % der Datensätze, Top 10 Review-Apps immer dabei ===\n",
    "total = len(combined_df)\n",
    "target = total // 2\n",
    "\n",
    "# Top 10 Apps nach num_reviews (plattform‑übergreifend)\n",
    "top10 = combined_df.nlargest(10, 'num_reviews')\n",
    "\n",
    "# Restliche Zeilen ohne die Top10\n",
    "rest = combined_df.drop(top10.index)\n",
    "\n",
    "# Zufallsstichprobe aus „rest“, um insgesamt target Zeilen zu bekommen\n",
    "rest_sample = rest.sample(n=target - len(top10), random_state=42)\n",
    "\n",
    "print(\"Stichproben ermittelt\")\n",
    "\n",
    "# Finaler Datensatz\n",
    "sampled_df = pd.concat([top10, rest_sample], ignore_index=True)\n",
    "print(f\"Verwendete Datensätze: {len(sampled_df)} von {total} ({len(sampled_df)/total:.0%})\")\n",
    "\n",
    "# === 5. Konvertierungs-Helper & Insert in MongoDB ===\n",
    "def to_native(val):\n",
    "    if isinstance(val, np.integer):\n",
    "        return int(val)\n",
    "    if isinstance(val, np.floating):\n",
    "        return float(val)\n",
    "    if pd.api.types.is_datetime64_any_dtype(type(val)):\n",
    "        return pd.to_datetime(val).to_pydatetime()\n",
    "    return val\n",
    "\n",
    "# NaN → None\n",
    "df_native = sampled_df.where(pd.notnull(sampled_df), None)\n",
    "print(\"Nans entfernt\")"
   ],
   "id": "eff60ef3",
   "outputs": [
    {
     "name": "stdout",
     "output_type": "stream",
     "text": [
      "relevante Spalten und Verbindung\n",
      "Stichproben ermittelt\n",
      "Verwendete Datensätze: 1700727 von 3401455 (50%)\n",
      "Nans entfernt\n"
     ]
    }
   ],
   "execution_count": 4
  },
  {
   "metadata": {},
   "cell_type": "markdown",
   "source": "### Records verarbeiten",
   "id": "54de89a55d7fcca1"
  },
  {
   "metadata": {
    "ExecuteTime": {
     "end_time": "2025-04-20T17:52:37.919003Z",
     "start_time": "2025-04-20T17:50:28.629757Z"
    }
   },
   "cell_type": "code",
   "source": [
    "# Records auf native Typen konvertieren\n",
    "records = [\n",
    "    {k: to_native(v) for k, v in rec.items()}\n",
    "    for rec in df_native.to_dict('records')\n",
    "]\n",
    "print(\"Records fertig\")"
   ],
   "id": "e4f9683451cedfeb",
   "outputs": [
    {
     "name": "stdout",
     "output_type": "stream",
     "text": [
      "Records fertig\n"
     ]
    }
   ],
   "execution_count": 5
  },
  {
   "metadata": {},
   "cell_type": "markdown",
   "source": "### Speicherung in die MongoDB",
   "id": "dc1fba5c6e634c04"
  },
  {
   "metadata": {
    "ExecuteTime": {
     "end_time": "2025-04-20T17:54:36.668281Z",
     "start_time": "2025-04-20T17:52:44.118724Z"
    }
   },
   "cell_type": "code",
   "source": [
    "# In MongoDB speichern\n",
    "clean_coll.delete_many({})\n",
    "clean_coll.insert_many(records)\n",
    "print(f\"In MongoDB gespeichert: {clean_coll.count_documents({})} Dokumente\")"
   ],
   "id": "709be376368397b",
   "outputs": [
    {
     "name": "stdout",
     "output_type": "stream",
     "text": [
      "In MongoDB gespeichert: 1700727 Dokumente\n"
     ]
    }
   ],
   "execution_count": 6
  },
  {
   "cell_type": "markdown",
   "id": "5ce8fe21",
   "metadata": {},
   "source": [
    "## 5. MapReduce: Durchschnittliche Bewertung pro Kategorie"
   ]
  },
  {
   "cell_type": "code",
   "execution_count": null,
   "id": "48335501",
   "metadata": {},
   "outputs": [],
   "source": [
    "# MapReduce-Funktionen definieren\n",
    "map_func = '''\n",
    "function() {\n",
    "    emit(this.category, {count: 1, total: this.rating});\n",
    "}\n",
    "'''\n",
    "reduce_func = '''\n",
    "function(key, values) {\n",
    "    var result = {count: 0, total: 0};\n",
    "    values.forEach(function(v) {\n",
    "        result.count += v.count;\n",
    "        result.total += v.total;\n",
    "    });\n",
    "    return result;\n",
    "}\n",
    "'''\n",
    "finalize_func = '''\n",
    "function(key, reduced) {\n",
    "    reduced.avg_rating = reduced.total / reduced.count;\n",
    "    return reduced;\n",
    "}\n",
    "'''\n",
    "\n",
    "# MapReduce ausführen\n",
    "db.clean_apps.map_reduce(map_func, reduce_func, \"mr_genre_avg_rating\", finalize=finalize_func)\n",
    "print(\"MapReduce abgeschlossen.\")"
   ]
  },
  {
   "metadata": {},
   "cell_type": "markdown",
   "source": "# Python MapReduce Function\n",
   "id": "b22dff7a60b69af2"
  },
  {
   "cell_type": "markdown",
   "id": "deacc7be",
   "metadata": {},
   "source": [
    "## 6. Visualisierung der Ergebnisse"
   ]
  },
  {
   "metadata": {
    "ExecuteTime": {
     "end_time": "2025-04-20T17:57:00.835957Z",
     "start_time": "2025-04-20T17:57:00.797906Z"
    }
   },
   "cell_type": "code",
   "source": [
    "from functools import reduce\n",
    "\n",
    "def map_reduce(data, map_func, reduce_func):\n",
    "    # Map-Schritt\n",
    "    mapped = []\n",
    "    for item in data:\n",
    "        mapped.extend(map_func(item))\n",
    "    # Shuffle & Group\n",
    "    grouped = {}\n",
    "    for key, value in mapped:\n",
    "        grouped.setdefault(key, []).append(value)\n",
    "    # Reduce-Schritt\n",
    "    return {key: reduce_func(key, values) for key, values in grouped.items()}"
   ],
   "id": "ce53eb96d59924a5",
   "outputs": [],
   "execution_count": 7
  },
  {
   "metadata": {},
   "cell_type": "markdown",
   "source": "### Use Case 1: Durchschnittliche Bewertung pro Kategorie",
   "id": "c4543c6fcc314abf"
  },
  {
   "metadata": {
    "ExecuteTime": {
     "end_time": "2025-04-20T18:16:00.950430Z",
     "start_time": "2025-04-20T18:14:06.976079Z"
    }
   },
   "cell_type": "code",
   "source": [
    "# 0. Sicherstellen: rating ist float, num_reviews ist int\n",
    "combined_df['rating']      = pd.to_numeric(combined_df['rating'],      errors='coerce')\n",
    "combined_df['num_reviews'] = pd.to_numeric(combined_df['num_reviews'], errors='coerce').fillna(0).astype(int)\n",
    "\n",
    "# 1. Alle Apps ohne Reviews rauswerfen\n",
    "df_rated = combined_df[combined_df['num_reviews'] > 0].copy()\n",
    "print(f\"Apps mit Reviews: {len(df_rated)} von {len(combined_df)} insgesamt\")\n",
    "\n",
    "# 2. Map‑ und Reduce‑Funktionen\n",
    "def map_category(doc):\n",
    "    return [(doc['category'], {'count': 1, 'total': doc['rating']})]\n",
    "\n",
    "def reduce_category(key, values):\n",
    "    result = {'count': 0, 'total': 0}\n",
    "    for v in values:\n",
    "        result['count'] += v['count']\n",
    "        result['total'] += v['total']\n",
    "    result['avg'] = result['total'] / result['count'] if result['count'] else 0\n",
    "    return result\n",
    "\n",
    "# 3. Anwenden auf den gefilterten DataFrame\n",
    "stats_cat = map_reduce(df_rated.to_dict('records'), map_category, reduce_category)\n",
    "\n",
    "# 4. In DataFrame umwandeln und sortieren\n",
    "df_cat = pd.DataFrame([\n",
    "    {'category': k, 'count': v['count'], 'avg_rating': v['avg']}\n",
    "    for k, v in stats_cat.items()\n",
    "]).sort_values('avg_rating', ascending=False)\n",
    "\n",
    "# 4.1 Kategorien reduzieren: nur Top 10 nach Anzahl Apps\n",
    "top_cats = df_cat.nlargest(10, 'count')['category'].tolist()\n",
    "df_cat_top10 = df_cat[df_cat['category'].isin(top_cats)]\n",
    "\n",
    "# 5. Plot der Top 10 Kategorien\n",
    "plt.figure(figsize=(10,6))\n",
    "df_cat_top10.set_index('category')['avg_rating'].plot(kind='bar')\n",
    "plt.title('Durchschnittliche Bewertung Top 10 Kategorien (nur Apps mit >0 Reviews)')\n",
    "plt.xlabel('Kategorie')\n",
    "plt.ylabel('Durchschnittliche Bewertung')\n",
    "plt.xticks(rotation=45, ha='right')\n",
    "plt.tight_layout()\n",
    "plt.show()"
   ],
   "id": "bd5b608dd039a1bf",
   "outputs": [
    {
     "name": "stdout",
     "output_type": "stream",
     "text": [
      "Apps mit Reviews: 1698099 von 3401455 insgesamt\n"
     ]
    },
    {
     "data": {
      "text/plain": [
       "<Figure size 1000x600 with 1 Axes>"
      ],
      "image/png": "[encoded data removed]"
     },
     "metadata": {},
     "output_type": "display_data"
    }
   ],
   "execution_count": 11
  },
  {
   "metadata": {},
   "cell_type": "markdown",
   "source": "### Use Case 2: Trend durchschnittliche Bewertung über Zeit",
   "id": "657d1bd6e5ca5fa3"
  },
  {
   "metadata": {
    "ExecuteTime": {
     "end_time": "2025-04-20T18:29:11.640126Z",
     "start_time": "2025-04-20T18:28:48.084443Z"
    }
   },
   "cell_type": "code",
   "source": [
    "import pandas as pd\n",
    "import matplotlib.pyplot as plt\n",
    "\n",
    "# Voraussetzung: combined_df mit Spalten\n",
    "# ['app_name','category','rating','num_reviews','price','free','platform','released','updated']\n",
    "\n",
    "# 1) Datentypen korrigieren\n",
    "combined_df['rating']      = pd.to_numeric(combined_df['rating'],      errors='coerce')\n",
    "combined_df['num_reviews'] = pd.to_numeric(combined_df['num_reviews'], errors='coerce').fillna(0).astype(int)\n",
    "\n",
    "# 2) Nur Apps mit mindestens einer Review\n",
    "df = combined_df[combined_df['num_reviews'] > 0].copy()\n",
    "\n",
    "# 3) Timestamps parsen\n",
    "df['updated']  = pd.to_datetime(df['updated'],  errors='coerce')\n",
    "df['released'] = pd.to_datetime(df['released'], errors='coerce')\n",
    "\n",
    "# 4) Einheitlicher Zeitstempel: updated falls vorhanden, sonst released\n",
    "df['ts'] = df['updated'].fillna(df['released'])\n",
    "\n",
    "# 5) Ungültige Zeitstempel herausfiltern\n",
    "df = df.dropna(subset=['ts'])\n",
    "\n",
    "# 6) Monatsspalte erzeugen (Period M)\n",
    "df['month'] = df['ts'].dt.to_period('M')\n",
    "\n",
    "# 7) Durchschnitt je (Monat, Plattform) berechnen\n",
    "trend = (\n",
    "    df\n",
    "    .groupby(['month','platform'])['rating']\n",
    "    .mean()\n",
    "    .unstack('platform')\n",
    ")\n",
    "\n",
    "# 8) PeriodIndex in Timestamp umwandeln\n",
    "trend.index = trend.index.to_timestamp()\n",
    "\n",
    "# 9) Plotten\n",
    "plt.figure(figsize=(10,5))\n",
    "for plat in trend.columns:\n",
    "    plt.plot(trend.index, trend[plat], marker='o', label=plat)\n",
    "\n",
    "plt.title('Monatlicher Trend der durchschnittlichen Bewertung (Python-only)')\n",
    "plt.xlabel('Monat')\n",
    "plt.ylabel('Durchschnittliche Bewertung')\n",
    "plt.legend(title='Plattform')\n",
    "plt.tight_layout()\n",
    "plt.show()\n"
   ],
   "id": "e23e9de819fff899",
   "outputs": [
    {
     "name": "stdout",
     "output_type": "stream",
     "text": [
      "Apps mit Reviews: 1698099 von 3401455 insgesamt\n",
      "Platforms nach Dropna: platform\n",
      "iOS    543787\n",
      "Name: count, dtype: int64\n",
      "Trend‑Spalten: ['iOS']\n",
      "Monatliche Werte je Plattform:\n",
      " platform\n",
      "iOS    157\n",
      "dtype: int64\n"
     ]
    },
    {
     "name": "stderr",
     "output_type": "stream",
     "text": [
      "/var/folders/gt/2q1t88w95z77rlrh16c5y6300000gn/T/ipykernel_56175/373886814.py:31: UserWarning: Converting to PeriodArray/Index representation will drop timezone information.\n",
      "  df_ts['month'] = df_ts['ts'].dt.to_period('M')\n"
     ]
    },
    {
     "data": {
      "text/plain": [
       "<Figure size 1000x500 with 1 Axes>"
      ],
      "image/png": "[encoded data removed]"
     },
     "metadata": {},
     "output_type": "display_data"
    }
   ],
   "execution_count": 26
  },
  {
   "metadata": {},
   "cell_type": "markdown",
   "source": " ### Top 10 Apps nach Anzahl Reviews",
   "id": "ec8a89133961ce37"
  },
  {
   "metadata": {
    "ExecuteTime": {
     "end_time": "2025-04-20T18:16:39.919902Z",
     "start_time": "2025-04-20T18:16:31.405662Z"
    }
   },
   "cell_type": "code",
   "source": [
    "# Summe der Reviews pro App (plattform‑übergreifend oder getrennt)\n",
    "top10_apps = (\n",
    "    combined_df\n",
    "    .groupby('app_name')['num_reviews']\n",
    "    .sum()\n",
    "    .nlargest(10)\n",
    "    .reset_index()\n",
    ")\n",
    "\n",
    "plt.figure(figsize=(8,5))\n",
    "plt.barh(top10_apps['app_name'][::-1], top10_apps['num_reviews'][::-1])\n",
    "plt.title('Top 10 Apps nach Anzahl Reviews')\n",
    "plt.xlabel('Anzahl Reviews')\n",
    "plt.tight_layout()\n",
    "plt.show()"
   ],
   "id": "ac0f6ae4",
   "outputs": [
    {
     "data": {
      "text/plain": [
       "<Figure size 800x500 with 1 Axes>"
      ],
      "image/png": "[encoded data removed]"
     },
     "metadata": {},
     "output_type": "display_data"
    }
   ],
   "execution_count": 14
  },
  {
   "metadata": {},
   "cell_type": "markdown",
   "source": "### Für getrennte Platformen",
   "id": "c942d6f23e99b970"
  },
  {
   "metadata": {
    "ExecuteTime": {
     "end_time": "2025-04-20T18:17:08.336422Z",
     "start_time": "2025-04-20T18:16:59.112060Z"
    }
   },
   "cell_type": "code",
   "source": [
    "top10_by_platform = (\n",
    "    combined_df\n",
    "    .groupby(['platform','app_name'])['num_reviews']\n",
    "    .sum()\n",
    "    .reset_index()\n",
    "    .sort_values(['platform','num_reviews'], ascending=[True, False])\n",
    "    .groupby('platform')\n",
    "    .head(5)\n",
    ")\n",
    "plt.figure(figsize=(8,5))\n",
    "plt.barh(top10_by_platform['app_name'][::-1], top10_by_platform['num_reviews'][::-1])\n",
    "plt.title('Top 10 Apps nach Platform')\n",
    "plt.xlabel('Anzahl Reviews')\n",
    "plt.tight_layout()\n",
    "plt.show()"
   ],
   "id": "9b8a41d753b3d4c9",
   "outputs": [
    {
     "data": {
      "text/plain": [
       "<Figure size 800x500 with 1 Axes>"
      ],
      "image/png": "[encoded data removed]"
     },
     "metadata": {},
     "output_type": "display_data"
    }
   ],
   "execution_count": 15
  },
  {
   "metadata": {},
   "cell_type": "markdown",
   "source": "## 7. Wortwolke der App-Namen",
   "id": "01756893"
  },
  {
   "metadata": {
    "jupyter": {
     "is_executing": true
    },
    "ExecuteTime": {
     "start_time": "2025-04-20T18:32:32.862339Z"
    }
   },
   "cell_type": "code",
   "source": [
    "# Wortwolke aus App-Namen erzeugen\n",
    "text = \" \".join(combined_df['app_name'].astype(str))\n",
    "wc = WordCloud(width=800, height=400).generate(text)\n",
    "\n",
    "plt.figure(figsize=(12, 6))\n",
    "plt.imshow(wc, interpolation='bilinear')\n",
    "plt.axis('off')\n",
    "plt.show()"
   ],
   "id": "26e433db",
   "outputs": [],
   "execution_count": null
  },
  {
   "metadata": {},
   "cell_type": "markdown",
   "source": [
    "## 8. Big Data Kriterien & Infrastruktur\n",
    "- **Volume:** Kombination großer CSVs\n",
    "- **Velocity:** regelmäßige Neu-Scrapes oder API-Abfragen\n",
    "- **Variety:** iOS vs. Android Daten\n",
    "- **Veracity:** Bereinigung durch Duplikat-Entfernung\n",
    "- **Value:** Insights zu Benutzerzufriedenheit\n",
    "\n",
    "**Infrastruktur:** MongoDB in Docker, Postman/Git multiuser-fähig."
   ],
   "id": "2dd1ab8f"
  },
  {
   "metadata": {},
   "cell_type": "code",
   "outputs": [],
   "execution_count": null,
   "source": "",
   "id": "8c3c0631c325d837"
  },
  {
   "metadata": {},
   "cell_type": "code",
   "outputs": [],
   "execution_count": null,
   "source": "",
   "id": "c72fc577a1ebb8ad"
  }
 ],
 "metadata": {
  "kernelspec": {
   "name": "python3",
   "language": "python",
   "display_name": "Python 3 (ipykernel)"
  }
 },
 "nbformat": 4,
 "nbformat_minor": 5
}
